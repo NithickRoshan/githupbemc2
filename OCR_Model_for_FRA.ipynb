{
  "nbformat": 4,
  "nbformat_minor": 0,
  "metadata": {
    "colab": {
      "provenance": [],
      "authorship_tag": "ABX9TyMkjDzUJvNZUYS+gstujc16",
      "include_colab_link": true
    },
    "kernelspec": {
      "name": "python3",
      "display_name": "Python 3"
    },
    "language_info": {
      "name": "python"
    }
  },
  "cells": [
    {
      "cell_type": "markdown",
      "metadata": {
        "id": "view-in-github",
        "colab_type": "text"
      },
      "source": [
        "<a href=\"https://colab.research.google.com/github/NithickRoshan/githupbemc2/blob/main/OCR_Model_for_FRA.ipynb\" target=\"_parent\"><img src=\"https://colab.research.google.com/assets/colab-badge.svg\" alt=\"Open In Colab\"/></a>"
      ]
    },
    {
      "cell_type": "code",
      "source": [
        "try:\n",
        "    from PIL import Image\n",
        "except ImportError:\n",
        "    import Image\n",
        "\n",
        "import pytesseract\n",
        "\n",
        "# Set the path to the Tesseract executable\n",
        "# In Colab, it's usually just 'tesseract' after installation\n",
        "pytesseract.pytesseract.tesseract_cmd = 'tesseract'\n",
        "\n",
        "def recText(filename):\n",
        "    text = pytesseract.image_to_string(Image.open(filename))\n",
        "    return text\n",
        "\n",
        "info = recText('nithick.png')\n",
        "print(info)\n",
        "\n",
        "file = open(\"New.txt\",\"a\")\n",
        "file.write(info)\n",
        "file.close()\n",
        "print(\"Written Successful\")"
      ],
      "metadata": {
        "colab": {
          "base_uri": "https://localhost:8080/"
        },
        "id": "M2MToDJ7KUqG",
        "outputId": "891539ca-eab8-4392-c642-d332377fa0e8"
      },
      "execution_count": 9,
      "outputs": [
        {
          "output_type": "stream",
          "name": "stdout",
          "text": [
            "1.4 Priority Scheduling\n",
            "\n",
            "© Description: Processes are assigned priorities; higher priority processes\n",
            "\n",
            "a Ria\n",
            "© Type: Can be preemptive or non-preemptive.\n",
            "° Advantages: Critical processes execute first.\n",
            "© Disadvantages: Low-priority processes may starve (solved using aging).\n",
            "\n",
            "e Used in: Windows, Linux, Real-Time OS (RTOS).\n",
            "\n",
            "1.5 Multilevel Queue (MLQ)\n",
            "\n",
            "* Description: Processes are divided into queues based on priority (e.g.,\n",
            "\n",
            "foreground, background).\n",
            "Oe ao oe\n",
            "Cie Ce e-lal ele (Met od-TEMe LUN1N oLMol kele Ret\n",
            "° Disadvantages: Complex implementation, potential starvation.\n",
            "\n",
            "e Used in: Windows, macOS, Unix.\n",
            "\n",
            "1.6 Multilevel Feedback Queue (MLFQ)\n",
            "\n",
            "¢ Description: Similar to MLQ but allows processes to move between queues\n",
            "\n",
            "based on behavior.\n",
            "Oe ao oe\n",
            "\n",
            "¢ Advantages: Dynamic, balances efficiency and fairness.\n",
            "\f\n",
            "Written Successful\n"
          ]
        }
      ]
    },
    {
      "cell_type": "code",
      "metadata": {
        "colab": {
          "base_uri": "https://localhost:8080/"
        },
        "id": "fbc0d9dc",
        "outputId": "47897676-6cf0-48ac-db6f-d80fd740dd96"
      },
      "source": [
        "# Install pytesseract and tesseract-ocr\n",
        "!pip install pytesseract\n",
        "!sudo apt update\n",
        "!sudo apt install tesseract-ocr"
      ],
      "execution_count": 6,
      "outputs": [
        {
          "output_type": "stream",
          "name": "stdout",
          "text": [
            "Collecting pytesseract\n",
            "  Downloading pytesseract-0.3.13-py3-none-any.whl.metadata (11 kB)\n",
            "Requirement already satisfied: packaging>=21.3 in /usr/local/lib/python3.12/dist-packages (from pytesseract) (25.0)\n",
            "Requirement already satisfied: Pillow>=8.0.0 in /usr/local/lib/python3.12/dist-packages (from pytesseract) (11.3.0)\n",
            "Downloading pytesseract-0.3.13-py3-none-any.whl (14 kB)\n",
            "Installing collected packages: pytesseract\n",
            "Successfully installed pytesseract-0.3.13\n",
            "Get:1 http://security.ubuntu.com/ubuntu jammy-security InRelease [129 kB]\n",
            "Get:2 https://cloud.r-project.org/bin/linux/ubuntu jammy-cran40/ InRelease [3,632 B]\n",
            "Get:3 https://cli.github.com/packages stable InRelease [3,917 B]\n",
            "Get:4 https://developer.download.nvidia.com/compute/cuda/repos/ubuntu2204/x86_64  InRelease [1,581 B]\n",
            "Get:5 https://r2u.stat.illinois.edu/ubuntu jammy InRelease [6,555 B]\n",
            "Hit:6 http://archive.ubuntu.com/ubuntu jammy InRelease\n",
            "Get:7 http://archive.ubuntu.com/ubuntu jammy-updates InRelease [128 kB]\n",
            "Get:8 http://security.ubuntu.com/ubuntu jammy-security/main amd64 Packages [3,310 kB]\n",
            "Hit:9 https://ppa.launchpadcontent.net/deadsnakes/ppa/ubuntu jammy InRelease\n",
            "Get:10 http://security.ubuntu.com/ubuntu jammy-security/universe amd64 Packages [1,274 kB]\n",
            "Get:11 https://ppa.launchpadcontent.net/graphics-drivers/ppa/ubuntu jammy InRelease [24.3 kB]\n",
            "Get:12 https://cli.github.com/packages stable/main amd64 Packages [346 B]\n",
            "Hit:13 https://ppa.launchpadcontent.net/ubuntugis/ppa/ubuntu jammy InRelease\n",
            "Get:14 http://archive.ubuntu.com/ubuntu jammy-backports InRelease [127 kB]\n",
            "Get:15 https://developer.download.nvidia.com/compute/cuda/repos/ubuntu2204/x86_64  Packages [2,006 kB]\n",
            "Get:16 https://r2u.stat.illinois.edu/ubuntu jammy/main amd64 Packages [2,797 kB]\n",
            "Get:17 https://r2u.stat.illinois.edu/ubuntu jammy/main all Packages [9,267 kB]\n",
            "Get:18 http://archive.ubuntu.com/ubuntu jammy-updates/multiverse amd64 Packages [88.8 kB]\n",
            "Get:19 http://archive.ubuntu.com/ubuntu jammy-updates/universe amd64 Packages [1,581 kB]\n",
            "Get:20 http://archive.ubuntu.com/ubuntu jammy-updates/main amd64 Packages [3,623 kB]\n",
            "Get:21 http://archive.ubuntu.com/ubuntu jammy-updates/restricted amd64 Packages [5,627 kB]\n",
            "Fetched 30.0 MB in 4s (8,038 kB/s)\n",
            "Reading package lists... Done\n",
            "Building dependency tree... Done\n",
            "Reading state information... Done\n",
            "49 packages can be upgraded. Run 'apt list --upgradable' to see them.\n",
            "\u001b[1;33mW: \u001b[0mSkipping acquire of configured file 'main/source/Sources' as repository 'https://r2u.stat.illinois.edu/ubuntu jammy InRelease' does not seem to provide it (sources.list entry misspelt?)\u001b[0m\n",
            "Reading package lists... Done\n",
            "Building dependency tree... Done\n",
            "Reading state information... Done\n",
            "tesseract-ocr is already the newest version (4.1.1-2.1build1).\n",
            "0 upgraded, 0 newly installed, 0 to remove and 49 not upgraded.\n"
          ]
        }
      ]
    },
    {
      "cell_type": "markdown",
      "metadata": {
        "id": "80d3ac5d"
      },
      "source": [
        "Now that the necessary libraries and Tesseract are installed, you can run your code again."
      ]
    }
  ]
}